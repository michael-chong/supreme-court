{
 "cells": [
  {
   "cell_type": "code",
   "execution_count": 3,
   "metadata": {},
   "outputs": [],
   "source": [
    "# if you are havign difficulty downloading numpy or scipy (requirements for sklearn), \n",
    "# https://scikit-learn.org/stable/modules/tree.html\n",
    "from sklearn import tree, metrics\n",
    "import pandas as pd\n",
    "from sklearn.model_selection import train_test_split"
   ]
  },
  {
   "cell_type": "code",
   "execution_count": 4,
   "metadata": {},
   "outputs": [
    {
     "data": {
      "text/html": [
       "<div>\n",
       "<style scoped>\n",
       "    .dataframe tbody tr th:only-of-type {\n",
       "        vertical-align: middle;\n",
       "    }\n",
       "\n",
       "    .dataframe tbody tr th {\n",
       "        vertical-align: top;\n",
       "    }\n",
       "\n",
       "    .dataframe thead th {\n",
       "        text-align: right;\n",
       "    }\n",
       "</style>\n",
       "<table border=\"1\" class=\"dataframe\">\n",
       "  <thead>\n",
       "    <tr style=\"text-align: right;\">\n",
       "      <th></th>\n",
       "      <th>c_chief</th>\n",
       "      <th>c_lcDisagreement</th>\n",
       "      <th>c_lcDispositionDirection</th>\n",
       "      <th>c_issueArea</th>\n",
       "      <th>c_adminActionBool</th>\n",
       "      <th>c_oralArgBool</th>\n",
       "      <th>c_reargBool</th>\n",
       "      <th>c_decisionTime</th>\n",
       "      <th>c_formerCourt</th>\n",
       "      <th>c_caseOriginRegion</th>\n",
       "      <th>...</th>\n",
       "      <th>e_senateMajority</th>\n",
       "      <th>e_decisionPresidentParty</th>\n",
       "      <th>e_JCApproval</th>\n",
       "      <th>j_justiceDecisionAgeBand</th>\n",
       "      <th>j_justiceRegion</th>\n",
       "      <th>j_justiceReligion</th>\n",
       "      <th>j_justiceEthnicity</th>\n",
       "      <th>j_justicePresidentParty</th>\n",
       "      <th>j_justiceVotesAppointed</th>\n",
       "      <th>direction</th>\n",
       "    </tr>\n",
       "  </thead>\n",
       "  <tbody>\n",
       "    <tr>\n",
       "      <th>0</th>\n",
       "      <td>Rehnquist</td>\n",
       "      <td>0.0</td>\n",
       "      <td>Conservative</td>\n",
       "      <td>Judicial Power</td>\n",
       "      <td>1</td>\n",
       "      <td>1</td>\n",
       "      <td>0</td>\n",
       "      <td>31-180 Days</td>\n",
       "      <td>0</td>\n",
       "      <td>South</td>\n",
       "      <td>...</td>\n",
       "      <td>Republican</td>\n",
       "      <td>Democrat</td>\n",
       "      <td>Approve</td>\n",
       "      <td>65+</td>\n",
       "      <td>Midwest</td>\n",
       "      <td>Lutheran</td>\n",
       "      <td>Caucasian</td>\n",
       "      <td>Republican</td>\n",
       "      <td>&lt;75%</td>\n",
       "      <td>Liberal</td>\n",
       "    </tr>\n",
       "    <tr>\n",
       "      <th>1</th>\n",
       "      <td>Rehnquist</td>\n",
       "      <td>0.0</td>\n",
       "      <td>Conservative</td>\n",
       "      <td>Judicial Power</td>\n",
       "      <td>1</td>\n",
       "      <td>1</td>\n",
       "      <td>0</td>\n",
       "      <td>31-180 Days</td>\n",
       "      <td>1</td>\n",
       "      <td>South</td>\n",
       "      <td>...</td>\n",
       "      <td>Republican</td>\n",
       "      <td>Democrat</td>\n",
       "      <td>Approve</td>\n",
       "      <td>65+</td>\n",
       "      <td>Midwest</td>\n",
       "      <td>Protestant</td>\n",
       "      <td>Caucasian</td>\n",
       "      <td>Republican</td>\n",
       "      <td>&gt;=75%</td>\n",
       "      <td>Liberal</td>\n",
       "    </tr>\n",
       "    <tr>\n",
       "      <th>2</th>\n",
       "      <td>Rehnquist</td>\n",
       "      <td>0.0</td>\n",
       "      <td>Conservative</td>\n",
       "      <td>Judicial Power</td>\n",
       "      <td>1</td>\n",
       "      <td>1</td>\n",
       "      <td>0</td>\n",
       "      <td>31-180 Days</td>\n",
       "      <td>0</td>\n",
       "      <td>South</td>\n",
       "      <td>...</td>\n",
       "      <td>Republican</td>\n",
       "      <td>Democrat</td>\n",
       "      <td>Approve</td>\n",
       "      <td>65+</td>\n",
       "      <td>West</td>\n",
       "      <td>NaN</td>\n",
       "      <td>Caucasian</td>\n",
       "      <td>Republican</td>\n",
       "      <td>&gt;=75%</td>\n",
       "      <td>Liberal</td>\n",
       "    </tr>\n",
       "    <tr>\n",
       "      <th>3</th>\n",
       "      <td>Rehnquist</td>\n",
       "      <td>0.0</td>\n",
       "      <td>Conservative</td>\n",
       "      <td>Judicial Power</td>\n",
       "      <td>1</td>\n",
       "      <td>1</td>\n",
       "      <td>0</td>\n",
       "      <td>31-180 Days</td>\n",
       "      <td>1</td>\n",
       "      <td>South</td>\n",
       "      <td>...</td>\n",
       "      <td>Republican</td>\n",
       "      <td>Democrat</td>\n",
       "      <td>Approve</td>\n",
       "      <td>0-65</td>\n",
       "      <td>Northeast</td>\n",
       "      <td>Catholicism</td>\n",
       "      <td>Caucasian</td>\n",
       "      <td>Republican</td>\n",
       "      <td>&gt;=75%</td>\n",
       "      <td>Conservative</td>\n",
       "    </tr>\n",
       "    <tr>\n",
       "      <th>4</th>\n",
       "      <td>Rehnquist</td>\n",
       "      <td>0.0</td>\n",
       "      <td>Conservative</td>\n",
       "      <td>Judicial Power</td>\n",
       "      <td>1</td>\n",
       "      <td>1</td>\n",
       "      <td>0</td>\n",
       "      <td>31-180 Days</td>\n",
       "      <td>1</td>\n",
       "      <td>South</td>\n",
       "      <td>...</td>\n",
       "      <td>Republican</td>\n",
       "      <td>Democrat</td>\n",
       "      <td>Approve</td>\n",
       "      <td>0-65</td>\n",
       "      <td>West</td>\n",
       "      <td>Catholicism</td>\n",
       "      <td>Caucasian</td>\n",
       "      <td>Republican</td>\n",
       "      <td>&gt;=75%</td>\n",
       "      <td>Liberal</td>\n",
       "    </tr>\n",
       "  </tbody>\n",
       "</table>\n",
       "<p>5 rows × 22 columns</p>\n",
       "</div>"
      ],
      "text/plain": [
       "     c_chief  c_lcDisagreement c_lcDispositionDirection     c_issueArea  \\\n",
       "0  Rehnquist               0.0             Conservative  Judicial Power   \n",
       "1  Rehnquist               0.0             Conservative  Judicial Power   \n",
       "2  Rehnquist               0.0             Conservative  Judicial Power   \n",
       "3  Rehnquist               0.0             Conservative  Judicial Power   \n",
       "4  Rehnquist               0.0             Conservative  Judicial Power   \n",
       "\n",
       "   c_adminActionBool  c_oralArgBool  c_reargBool c_decisionTime  \\\n",
       "0                  1              1            0    31-180 Days   \n",
       "1                  1              1            0    31-180 Days   \n",
       "2                  1              1            0    31-180 Days   \n",
       "3                  1              1            0    31-180 Days   \n",
       "4                  1              1            0    31-180 Days   \n",
       "\n",
       "   c_formerCourt c_caseOriginRegion  ... e_senateMajority  \\\n",
       "0              0              South  ...       Republican   \n",
       "1              1              South  ...       Republican   \n",
       "2              0              South  ...       Republican   \n",
       "3              1              South  ...       Republican   \n",
       "4              1              South  ...       Republican   \n",
       "\n",
       "  e_decisionPresidentParty e_JCApproval j_justiceDecisionAgeBand  \\\n",
       "0                 Democrat      Approve                      65+   \n",
       "1                 Democrat      Approve                      65+   \n",
       "2                 Democrat      Approve                      65+   \n",
       "3                 Democrat      Approve                     0-65   \n",
       "4                 Democrat      Approve                     0-65   \n",
       "\n",
       "  j_justiceRegion j_justiceReligion j_justiceEthnicity  \\\n",
       "0         Midwest          Lutheran          Caucasian   \n",
       "1         Midwest        Protestant          Caucasian   \n",
       "2            West               NaN          Caucasian   \n",
       "3       Northeast       Catholicism          Caucasian   \n",
       "4            West       Catholicism          Caucasian   \n",
       "\n",
       "  j_justicePresidentParty j_justiceVotesAppointed     direction  \n",
       "0              Republican                    <75%       Liberal  \n",
       "1              Republican                   >=75%       Liberal  \n",
       "2              Republican                   >=75%       Liberal  \n",
       "3              Republican                   >=75%  Conservative  \n",
       "4              Republican                   >=75%       Liberal  \n",
       "\n",
       "[5 rows x 22 columns]"
      ]
     },
     "execution_count": 4,
     "metadata": {},
     "output_type": "execute_result"
    }
   ],
   "source": [
    "# load data cleaned from rscript\n",
    "sc_df = pd.read_csv('../sc_decisions_final.csv')"
   ]
  },
  {
   "cell_type": "code",
   "execution_count": 5,
   "metadata": {},
   "outputs": [],
   "source": [
    "# fill missing values as they are legitimate\n",
    "sc_df = sc_df.fillna(\"N/A\")"
   ]
  },
  {
   "cell_type": "code",
   "execution_count": 6,
   "metadata": {},
   "outputs": [],
   "source": [
    "# select explanatory and response variables\n",
    "X = sc_df.loc[:, sc_df.columns != 'direction']\n",
    "y = sc_df[['direction']].astype(\"category\")"
   ]
  },
  {
   "cell_type": "code",
   "execution_count": 7,
   "metadata": {},
   "outputs": [],
   "source": [
    "# encode target\n",
    "y = y.apply(lambda x: x.cat.codes)\n",
    "\n",
    "# check encoding\n",
    "# y.apply(lambda x: x.cat.categories) \n",
    "\n",
    "# encode categorical features\n",
    "cat_vars = list(X.columns)\n",
    "X = pd.get_dummies(X, columns = cat_vars)"
   ]
  },
  {
   "cell_type": "code",
   "execution_count": 8,
   "metadata": {},
   "outputs": [
    {
     "name": "stdout",
     "output_type": "stream",
     "text": [
      "Training split input-  (10535, 72)\n",
      "Testing split input-  (3512, 72)\n"
     ]
    }
   ],
   "source": [
    "# split into training and testing\n",
    "X_train, X_test, y_train, y_test = train_test_split(X , y, test_size = 0.25, random_state = 42)\n",
    "print(\"Training split input- \", X_train.shape)\n",
    "print(\"Testing split input- \", X_test.shape)"
   ]
  },
  {
   "cell_type": "code",
   "execution_count": 18,
   "metadata": {},
   "outputs": [
    {
     "name": "stdout",
     "output_type": "stream",
     "text": [
      "OOB: 0.69397\n",
      "Best parameters: {'max_features': 7, 'min_samples_leaf': 3}\n"
     ]
    }
   ],
   "source": [
    "import numpy as np\n",
    "from sklearn.ensemble import RandomForestClassifier\n",
    "default_max_features_param = np.sqrt(X_train.shape[1])\n",
    "default_max_features_param\n",
    "hyperparam_grid={\"max_features\":[3,4,5,6,7],\n",
    "                 'min_samples_leaf':[1,3,5,7,9,11]}\n",
    "from sklearn.model_selection import ParameterGrid\n",
    "\n",
    "ParameterGrid(hyperparam_grid)[1]\n",
    "rfc = RandomForestClassifier(n_estimators=2000, oob_score=True,\n",
    "                             warm_start=False, random_state=1, n_jobs=-2)\n",
    "best_score=0.5\n",
    "\n",
    "for g in ParameterGrid(hyperparam_grid):\n",
    "    rfc.set_params(min_samples_leaf=g['min_samples_leaf'], max_features=g['max_features'])\n",
    "    #or rfc.set_params(**g)\n",
    "    rfc.fit(X_train,y_train.values.ravel())\n",
    "    # save if best\n",
    "    if rfc.oob_score_ > best_score:\n",
    "        best_score = rfc.oob_score_\n",
    "        best_params = g\n",
    "\n",
    "print(f\"OOB: %0.5f\" % best_score)\n",
    "print(\"Best parameters:\", best_params)"
   ]
  },
  {
   "cell_type": "code",
   "execution_count": null,
   "metadata": {},
   "outputs": [],
   "source": [
    "rfc = RandomForestClassifier(n_estimators=2000, max_features=best_params['max_features'],\n",
    "                             min_samples_leaf=best_params['min_samples_leaf'],\n",
    "                             oob_score=True, warm_start=False, random_state=1)\n",
    "rfc.fit(X_train,y_train.values.ravel())"
   ]
  },
  {
   "cell_type": "code",
   "execution_count": null,
   "metadata": {},
   "outputs": [],
   "source": [
    "import matplotlib.pyplot as plt\n",
    "from sklearn.tree import plot_tree\n",
    "fig, axs = plt.subplots(1,3,figsize=(38,12))\n",
    "for i, rf_tree in enumerate(rfc.estimators_[0:3]):\n",
    "    plot_tree(rf_tree, feature_names=X_train.columns.tolist(), impurity=False, label=\"root\",\n",
    "          filled=True, proportion=True, rounded=True, fontsize=8, ax=axs[i-1])\n",
    "plt.show()"
   ]
  },
  {
   "cell_type": "code",
   "execution_count": null,
   "metadata": {},
   "outputs": [],
   "source": [
    "rfc.oob_score_\n",
    "rfc.score(X_test, y_test)\n",
    "classif_report = classification_report(y_test, rfc.predict(X_test))\n",
    "print(classif_report)"
   ]
  },
  {
   "cell_type": "code",
   "execution_count": 17,
   "metadata": {},
   "outputs": [
    {
     "data": {
      "text/plain": [
       "(10535, 1)"
      ]
     },
     "execution_count": 17,
     "metadata": {},
     "output_type": "execute_result"
    }
   ],
   "source": [
    "y_train.shape"
   ]
  }
 ],
 "metadata": {
  "kernelspec": {
   "display_name": "Python 3",
   "language": "python",
   "name": "python3"
  },
  "language_info": {
   "codemirror_mode": {
    "name": "ipython",
    "version": 3
   },
   "file_extension": ".py",
   "mimetype": "text/x-python",
   "name": "python",
   "nbconvert_exporter": "python",
   "pygments_lexer": "ipython3",
   "version": "3.8.5"
  }
 },
 "nbformat": 4,
 "nbformat_minor": 5
}
